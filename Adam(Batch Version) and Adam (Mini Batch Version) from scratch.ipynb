{
 "cells": [
  {
   "cell_type": "markdown",
   "id": "32b92576",
   "metadata": {
    "id": "32b92576"
   },
   "source": [
    "\n",
    "* **Implement the Adam (Batch Version) algorithm to train a multivariable linear regression model.**\n",
    "* **Update your implementation to work for mini-batch.**\n",
    "\n",
    "\n"
   ]
  },
  {
   "cell_type": "code",
   "execution_count": 1,
   "id": "0cbf0144",
   "metadata": {
    "id": "0cbf0144"
   },
   "outputs": [],
   "source": [
    "import numpy as np\n",
    "import pandas as pd\n",
    "import matplotlib.pyplot as plt\n",
    "from sklearn.metrics import r2_score"
   ]
  },
  {
   "cell_type": "code",
   "execution_count": 2,
   "id": "546b9414",
   "metadata": {},
   "outputs": [],
   "source": [
    "def h(x,theta):\n",
    "    return x@theta.T\n",
    "\n",
    "def cost(x,y,theta):\n",
    "    m=len(y)\n",
    "    return (sum(np.power((h(x,theta)-y),2))/(2*m))\n",
    "\n",
    "def dj(x,y,theta):\n",
    "    m=len(y)\n",
    "    return x.T@((1/m)*(h(x,theta)-y))"
   ]
  },
  {
   "cell_type": "code",
   "execution_count": 3,
   "id": "efaefcb2",
   "metadata": {},
   "outputs": [
    {
     "name": "stdout",
     "output_type": "stream",
     "text": [
      "(25, 4)\n",
      "(25,)\n"
     ]
    }
   ],
   "source": [
    "data2 = np.genfromtxt(r\"D:\\numerical op\\intake 1\\labs\\MultipleLR.csv\", delimiter=\",\")\n",
    "\n",
    "x=np.hstack((np.ones((len(data2),1)),data2[:,0:3]))\n",
    "y=data2[:,3]\n",
    "print(x.shape)\n",
    "print(y.shape)\n",
    "theta=np.zeros(x.shape[1])"
   ]
  },
  {
   "cell_type": "markdown",
   "id": "755972b6",
   "metadata": {},
   "source": [
    "# Adam (Batch Version)"
   ]
  },
  {
   "cell_type": "code",
   "execution_count": 4,
   "id": "66f0d898",
   "metadata": {},
   "outputs": [],
   "source": [
    "def adam(x,y,theta,lr,beta1,beta2,max_it):\n",
    "    theta=np.zeros(x.shape[1])\n",
    "    j1=10**10\n",
    "    j2=10**9\n",
    "    n=0\n",
    "    vt=0\n",
    "    epslon=10**(-8)\n",
    "    jlist=[]\n",
    "    mt=0\n",
    "    while abs(j2-j1)>0.00007 and n<max_it:\n",
    "        mt=beta2*mt+(1-beta2)*dj(x,y,theta)\n",
    "        if beta2 !=1:\n",
    "            mt=mt/(1-beta2**(n+1))\n",
    "        vt=beta1*vt+(1-beta1)*(dj(x,y,theta)**2)\n",
    "        \n",
    "        if beta1 !=1:\n",
    "            vt=vt/(1-beta1**(n+1))\n",
    "        G=vt**0.5+epslon\n",
    "        theta=theta - (lr/G)*mt\n",
    "        j1=j2\n",
    "        j2=cost(x,y,theta)\n",
    "        jlist.append(j2)\n",
    "        n+=1\n",
    "    plt.plot(jlist)\n",
    "    plt.show()\n",
    "    return theta,n"
   ]
  },
  {
   "cell_type": "code",
   "execution_count": 5,
   "id": "150ffcdd",
   "metadata": {},
   "outputs": [
    {
     "data": {
      "image/png": "[encoded data removed]",
      "text/plain": [
       "<Figure size 432x288 with 1 Axes>"
      ]
     },
     "metadata": {
      "needs_background": "light"
     },
     "output_type": "display_data"
    },
    {
     "name": "stdout",
     "output_type": "stream",
     "text": [
      "adam r2 = 0.9891440951265509 iterations = 874 [-0.56849595  0.37511562  0.52436616  1.12022454]\n"
     ]
    }
   ],
   "source": [
    "theta4,n = adam(x, y, theta, 0.01,0.5,0.5,10000)\n",
    "\n",
    "\n",
    "print(\"adam\",\"r2 =\",r2_score(y,h(x,theta4)),\"iterations =\",n,theta4)"
   ]
  },
  {
   "cell_type": "markdown",
   "id": "0e8db840",
   "metadata": {},
   "source": [
    "# Adam ( mini Batch)"
   ]
  },
  {
   "cell_type": "code",
   "execution_count": 6,
   "id": "b46b01fc",
   "metadata": {},
   "outputs": [],
   "source": [
    "def adam_mini(x,y,theta,lr,beta1,beta2,max_it,batch_size):\n",
    "    theta=np.zeros(x.shape[1])\n",
    "    j1=float(10**10)\n",
    "    j2=float(10**9)\n",
    "    n=0\n",
    "    vt=0\n",
    "    epslon=10**(-8)\n",
    "    jlist=[]\n",
    "    mt=0\n",
    "    samples_num = int(len(y) / batch_size)\n",
    "    \n",
    "    for i in range(max_it): \n",
    "        for j in range(1,samples_num):\n",
    "            start_index=((j-1)*batch_size)\n",
    "            end_index = (j*batch_size)\n",
    "            if j==1 :\n",
    "                x_batches = x[:end_index]\n",
    "                y_batches = y[:end_index]\n",
    "            elif j== samples_num :\n",
    "                x_batches = x[start_index:]\n",
    "                y_batches = y[start_index:]\n",
    "            else:\n",
    "                x_batches = x[start_index:end_index]\n",
    "                y_batches = y[start_index:end_index]\n",
    "                \n",
    "            b=len(x_batches)\n",
    "            mt=beta2*mt+(1-beta2)*dj(x_batches,y_batches,theta)\n",
    "            if beta2 !=1:\n",
    "                mt=mt/(1-beta2**(n+1))\n",
    "            vt=beta1*vt+(1-beta1)*(dj(x_batches,y_batches,theta)**2)\n",
    "        \n",
    "            if beta1 !=1:\n",
    "                vt=vt/(1-beta1**(n+1))\n",
    "            G=vt**0.5+epslon\n",
    "            theta=theta - (lr/G)*mt\n",
    "            j1=j2\n",
    "            j2=cost(x_batches,y_batches,theta)\n",
    "            jlist.append(j2)\n",
    "            n+=1\n",
    "        \n",
    "        \n",
    "        if abs(j2-j1)<.1:\n",
    "            break\n",
    "    plt.plot(jlist)\n",
    "    plt.show()\n",
    "    return theta,jlist,n"
   ]
  },
  {
   "cell_type": "code",
   "execution_count": 7,
   "id": "c685cd0b",
   "metadata": {},
   "outputs": [
    {
     "data": {
      "image/png": "[encoded data removed]",
      "text/plain": [
       "<Figure size 432x288 with 1 Axes>"
      ]
     },
     "metadata": {
      "needs_background": "light"
     },
     "output_type": "display_data"
    },
    {
     "name": "stdout",
     "output_type": "stream",
     "text": [
      "adam r2 = 0.9889902192744022 iterations = 12000 [-3.55331733  0.43371988  0.5466978   1.07372499]\n"
     ]
    }
   ],
   "source": [
    "theta4,cost,n=adam_mini(x, y, theta, 0.05,0.9,0.9,3000,5)\n",
    "\n",
    "\n",
    "print(\"adam\",\"r2 =\",r2_score(y,h(x,theta4)),\"iterations =\",n,theta4)"
   ]
  },
  {
   "cell_type": "code",
   "execution_count": null,
   "id": "4307e00c",
   "metadata": {},
   "outputs": [],
   "source": []
  }
 ],
 "metadata": {
  "colab": {
   "name": "NOFML&DS Final Practical Exam.ipynb",
   "provenance": []
  },
  "kernelspec": {
   "display_name": "Python 3 (ipykernel)",
   "language": "python",
   "name": "python3"
  },
  "language_info": {
   "codemirror_mode": {
    "name": "ipython",
    "version": 3
   },
   "file_extension": ".py",
   "mimetype": "text/x-python",
   "name": "python",
   "nbconvert_exporter": "python",
   "pygments_lexer": "ipython3",
   "version": "3.9.7"
  }
 },
 "nbformat": 4,
 "nbformat_minor": 5
}
