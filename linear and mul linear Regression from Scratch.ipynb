{
 "cells": [
  {
   "cell_type": "code",
   "execution_count": 1,
   "metadata": {},
   "outputs": [],
   "source": [
    "import numpy as np \n",
    "import pandas as pd \n",
    "import matplotlib.pyplot as plt"
   ]
  },
  {
   "cell_type": "code",
   "execution_count": 5,
   "metadata": {},
   "outputs": [
    {
     "data": {
      "text/html": [
       "<div>\n",
       "<style scoped>\n",
       "    .dataframe tbody tr th:only-of-type {\n",
       "        vertical-align: middle;\n",
       "    }\n",
       "\n",
       "    .dataframe tbody tr th {\n",
       "        vertical-align: top;\n",
       "    }\n",
       "\n",
       "    .dataframe thead th {\n",
       "        text-align: right;\n",
       "    }\n",
       "</style>\n",
       "<table border=\"1\" class=\"dataframe\">\n",
       "  <thead>\n",
       "    <tr style=\"text-align: right;\">\n",
       "      <th></th>\n",
       "      <th>x1</th>\n",
       "      <th>y</th>\n",
       "    </tr>\n",
       "  </thead>\n",
       "  <tbody>\n",
       "    <tr>\n",
       "      <th>0</th>\n",
       "      <td>2.9</td>\n",
       "      <td>4.0</td>\n",
       "    </tr>\n",
       "    <tr>\n",
       "      <th>1</th>\n",
       "      <td>6.7</td>\n",
       "      <td>7.4</td>\n",
       "    </tr>\n",
       "    <tr>\n",
       "      <th>2</th>\n",
       "      <td>4.9</td>\n",
       "      <td>5.0</td>\n",
       "    </tr>\n",
       "    <tr>\n",
       "      <th>3</th>\n",
       "      <td>7.9</td>\n",
       "      <td>7.2</td>\n",
       "    </tr>\n",
       "    <tr>\n",
       "      <th>4</th>\n",
       "      <td>9.8</td>\n",
       "      <td>7.9</td>\n",
       "    </tr>\n",
       "    <tr>\n",
       "      <th>5</th>\n",
       "      <td>6.9</td>\n",
       "      <td>6.1</td>\n",
       "    </tr>\n",
       "    <tr>\n",
       "      <th>6</th>\n",
       "      <td>6.1</td>\n",
       "      <td>6.0</td>\n",
       "    </tr>\n",
       "    <tr>\n",
       "      <th>7</th>\n",
       "      <td>6.2</td>\n",
       "      <td>5.8</td>\n",
       "    </tr>\n",
       "    <tr>\n",
       "      <th>8</th>\n",
       "      <td>6.0</td>\n",
       "      <td>5.2</td>\n",
       "    </tr>\n",
       "    <tr>\n",
       "      <th>9</th>\n",
       "      <td>5.1</td>\n",
       "      <td>4.2</td>\n",
       "    </tr>\n",
       "    <tr>\n",
       "      <th>10</th>\n",
       "      <td>4.7</td>\n",
       "      <td>4.0</td>\n",
       "    </tr>\n",
       "    <tr>\n",
       "      <th>11</th>\n",
       "      <td>4.4</td>\n",
       "      <td>4.4</td>\n",
       "    </tr>\n",
       "    <tr>\n",
       "      <th>12</th>\n",
       "      <td>5.8</td>\n",
       "      <td>5.2</td>\n",
       "    </tr>\n",
       "  </tbody>\n",
       "</table>\n",
       "</div>"
      ],
      "text/plain": [
       "     x1    y\n",
       "0   2.9  4.0\n",
       "1   6.7  7.4\n",
       "2   4.9  5.0\n",
       "3   7.9  7.2\n",
       "4   9.8  7.9\n",
       "5   6.9  6.1\n",
       "6   6.1  6.0\n",
       "7   6.2  5.8\n",
       "8   6.0  5.2\n",
       "9   5.1  4.2\n",
       "10  4.7  4.0\n",
       "11  4.4  4.4\n",
       "12  5.8  5.2"
      ]
     },
     "execution_count": 5,
     "metadata": {},
     "output_type": "execute_result"
    }
   ],
   "source": [
    "data=pd.read_csv(r'D:\\numerical op\\labs\\RegData.csv',header=None,names=['x1','y'])\n",
    "data"
   ]
  },
  {
   "cell_type": "code",
   "execution_count": 6,
   "metadata": {},
   "outputs": [
    {
     "data": {
      "text/plain": [
       "<AxesSubplot:xlabel='x1', ylabel='y'>"
      ]
     },
     "execution_count": 6,
     "metadata": {},
     "output_type": "execute_result"
    },
    {
     "data": {
      "image/png": "[encoded data removed]",
      "text/plain": [
       "<Figure size 360x360 with 1 Axes>"
      ]
     },
     "metadata": {
      "needs_background": "light"
     },
     "output_type": "display_data"
    }
   ],
   "source": [
    "data.plot(kind='scatter', x='x1', y='y', figsize=(5,5))"
   ]
  },
  {
   "cell_type": "code",
   "execution_count": 7,
   "metadata": {},
   "outputs": [
    {
     "name": "stdout",
     "output_type": "stream",
     "text": [
      "new data = \n",
      "    x0   x1    y\n",
      "0   1  2.9  4.0\n",
      "1   1  6.7  7.4\n",
      "2   1  4.9  5.0\n",
      "3   1  7.9  7.2\n",
      "4   1  9.8  7.9\n",
      "5   1  6.9  6.1\n",
      "6   1  6.1  6.0\n",
      "7   1  6.2  5.8\n",
      "8   1  6.0  5.2\n",
      "9   1  5.1  4.2\n"
     ]
    }
   ],
   "source": [
    "data.insert(0, 'x0', 1)\n",
    "print('new data = \\n' ,data.head(10) )"
   ]
  },
  {
   "cell_type": "markdown",
   "metadata": {},
   "source": [
    "#### Explore your data"
   ]
  },
  {
   "cell_type": "code",
   "execution_count": null,
   "metadata": {},
   "outputs": [],
   "source": []
  },
  {
   "cell_type": "markdown",
   "metadata": {},
   "source": [
    "#### Define variables X and y. Assign first column data to X and second column to y\n",
    "<b>Note:</b> X is the independent variable (input to LR model) and y is the dependent variable (output)"
   ]
  },
  {
   "cell_type": "code",
   "execution_count": 8,
   "metadata": {},
   "outputs": [],
   "source": [
    "cols = data.shape[1]\n",
    "x = data.iloc[:,0:cols-1]\n",
    "y = data.iloc[:,cols-1:cols]"
   ]
  },
  {
   "cell_type": "markdown",
   "metadata": {},
   "source": [
    "#### Explore your data"
   ]
  },
  {
   "cell_type": "code",
   "execution_count": 9,
   "metadata": {},
   "outputs": [
    {
     "name": "stdout",
     "output_type": "stream",
     "text": [
      "    x0   x1\n",
      "0    1  2.9\n",
      "1    1  6.7\n",
      "2    1  4.9\n",
      "3    1  7.9\n",
      "4    1  9.8\n",
      "5    1  6.9\n",
      "6    1  6.1\n",
      "7    1  6.2\n",
      "8    1  6.0\n",
      "9    1  5.1\n",
      "10   1  4.7\n",
      "11   1  4.4\n",
      "12   1  5.8\n",
      "      y\n",
      "0   4.0\n",
      "1   7.4\n",
      "2   5.0\n",
      "3   7.2\n",
      "4   7.9\n",
      "5   6.1\n",
      "6   6.0\n",
      "7   5.8\n",
      "8   5.2\n",
      "9   4.2\n",
      "10  4.0\n",
      "11  4.4\n",
      "12  5.2\n"
     ]
    }
   ],
   "source": [
    "print(x)\n",
    "print(y)"
   ]
  },
  {
   "cell_type": "code",
   "execution_count": 10,
   "metadata": {
    "scrolled": true
   },
   "outputs": [
    {
     "name": "stdout",
     "output_type": "stream",
     "text": [
      "(13, 2)\n",
      "(13, 1)\n",
      "(1, 2)\n"
     ]
    }
   ],
   "source": [
    "x = np.matrix(x.values)\n",
    "y = np.matrix(y.values)\n",
    "theta = np.matrix(np.array([0,0]))\n",
    "print(x.shape)\n",
    "print(y.shape)\n",
    "print(theta.shape)"
   ]
  },
  {
   "cell_type": "markdown",
   "metadata": {},
   "source": [
    "## LR Full Implementation"
   ]
  },
  {
   "cell_type": "markdown",
   "metadata": {},
   "source": [
    "### Step1: Initialize parameters (theta_0 & theta_1) with random value or simply zero. Also choose the Learning rate. "
   ]
  },
  {
   "attachments": {
    "image.png": {
     "image/png": "[encoded data removed]"
    }
   },
   "cell_type": "markdown",
   "metadata": {},
   "source": [
    "![image.png](attachment:image.png)"
   ]
  },
  {
   "attachments": {
    "image.png": {
     "image/png": "[encoded data removed]"
    }
   },
   "cell_type": "markdown",
   "metadata": {},
   "source": [
    "### Step2: Use (theta_0 & theta_1) to predict the output h(x)= theta_0 + theta_1 * x.![image.png](attachment:image.png)\n",
    "#### Note: you will need to iterate through all data points"
   ]
  },
  {
   "attachments": {
    "image-2.png": {
     "image/png": "[encoded data removed]"
    },
    "image.png": {
     "image/png": "[encoded data removed]"
    }
   },
   "cell_type": "markdown",
   "metadata": {},
   "source": [
    "### Step3: Calculate Cost function 𝑱(theta_0,theta_1 ).![image.png](attachment:image.png)\n",
    "![image-2.png](attachment:image-2.png)"
   ]
  },
  {
   "attachments": {
    "image-2.png": {
     "image/png": "[encoded data removed]"
    },
    "image.png": {
     "image/png": "[encoded data removed]"
    }
   },
   "cell_type": "markdown",
   "metadata": {},
   "source": [
    "### Step4: Calculate the gradient.![image.png](attachment:image.png)\n",
    "![image-2.png](attachment:image-2.png)"
   ]
  },
  {
   "attachments": {
    "image-2.png": {
     "image/png": "[encoded data removed]"
    },
    "image.png": {
     "image/png": "[encoded data removed]"
    }
   },
   "cell_type": "markdown",
   "metadata": {},
   "source": [
    "### Step5: Update the parameters (simultaneously).![image.png](attachment:image.png)\n",
    "![image-2.png](attachment:image-2.png)"
   ]
  },
  {
   "attachments": {
    "image.png": {
     "image/png": "[encoded data removed]"
    }
   },
   "cell_type": "markdown",
   "metadata": {},
   "source": [
    "### Step6: Repeat from 2 to 5 until converge to the minimum or achieve maximum iterations.![image.png](attachment:image.png)"
   ]
  },
  {
   "cell_type": "code",
   "execution_count": 12,
   "metadata": {},
   "outputs": [
    {
     "name": "stdout",
     "output_type": "stream",
     "text": [
      "computeCost(x, y, theta) =  16.305384479692318\n"
     ]
    }
   ],
   "source": [
    "def computeCost(x, y, theta):\n",
    "    z = np.power(((x * theta.T) - y), 2)\n",
    "    return np.sum(z) / (2 * len(x))\n",
    "\n",
    "print('computeCost(x, y, theta) = ' , computeCost(x, y, theta))"
   ]
  },
  {
   "cell_type": "code",
   "execution_count": 14,
   "metadata": {},
   "outputs": [],
   "source": [
    "def gradientDescent(x, y, theta, alpha, iters):  \n",
    "    \n",
    "    temp = np.matrix(np.zeros(theta.shape))\n",
    "    parameters = int(theta.ravel().shape[1])\n",
    "    cost = np.zeros(iters)\n",
    "    \n",
    "    for i in range(iters):\n",
    "        error = (x * theta.T) - y\n",
    "        \n",
    "        for j in range(parameters):\n",
    "            term = np.multiply(error, x[:,j])\n",
    "            temp[0,j] = theta[0,j] - ((alpha / len(x)) * np.sum(term))\n",
    "            \n",
    "        theta = temp\n",
    "        cost[i] = computeCost(x, y, theta)\n",
    "        \n",
    "    return theta, cost"
   ]
  },
  {
   "cell_type": "code",
   "execution_count": 15,
   "metadata": {},
   "outputs": [],
   "source": [
    "alpha=.001\n",
    "iters=100\n",
    "theta,cost=gradientDescent(x,y,theta,alpha,iters)"
   ]
  },
  {
   "cell_type": "code",
   "execution_count": 13,
   "metadata": {},
   "outputs": [],
   "source": []
  },
  {
   "cell_type": "code",
   "execution_count": null,
   "metadata": {},
   "outputs": [],
   "source": []
  },
  {
   "cell_type": "code",
   "execution_count": 17,
   "metadata": {},
   "outputs": [
    {
     "name": "stdout",
     "output_type": "stream",
     "text": [
      "[[0.14651653 0.87874169]]\n",
      "**************************************************\n",
      "[15.07090799 13.93106455 12.87859969 11.90681505 11.00952577 10.18102111\n",
      "  9.41602813  8.70967808  8.05747545  7.45526936  6.89922713  6.38580988\n",
      "  5.91175003  5.47403048  5.06986543  4.69668261  4.35210697  4.0339455\n",
      "  3.74017333  3.46892079  3.21846156  2.98720164  2.77366923  2.57650537\n",
      "  2.39445525  2.22636027  2.07115064  1.92783859  1.79551207  1.67332892\n",
      "  1.56051158  1.45634207  1.36015745  1.27134562  1.18934138  1.11362286\n",
      "  1.04370822  0.97915254  0.91954499  0.86450627  0.81368613  0.76676118\n",
      "  0.72343281  0.68342533  0.64648415  0.61237421  0.58087847  0.55179654\n",
      "  0.52494336  0.5001481   0.47725298  0.45611236  0.43659172  0.41856689\n",
      "  0.40192319  0.38655475  0.37236381  0.35926011  0.3471603   0.33598741\n",
      "  0.32567041  0.31614366  0.3073466   0.29922328  0.29172206  0.28479525\n",
      "  0.27839881  0.2724921   0.26703755  0.26200052  0.257349    0.25305343\n",
      "  0.24908653  0.2454231   0.24203987  0.23891538  0.23602978  0.23336476\n",
      "  0.23090341  0.22863012  0.22653047  0.22459116  0.22279988  0.22114529\n",
      "  0.21961692  0.21820509  0.21690086  0.21569598  0.21458285  0.21355442\n",
      "  0.21260421  0.21172621  0.21091489  0.21016514  0.20947225  0.20883184\n",
      "  0.20823991  0.20769272  0.20718686  0.20671915]\n"
     ]
    }
   ],
   "source": [
    "print(theta)\n",
    "print(\"*\"*50)\n",
    "print(cost)"
   ]
  },
  {
   "cell_type": "code",
   "execution_count": 18,
   "metadata": {},
   "outputs": [
    {
     "name": "stdout",
     "output_type": "stream",
     "text": [
      "computeCost(X, y, theta) =  0.20671915357934667\n"
     ]
    }
   ],
   "source": [
    "print('computeCost(X, y, theta) = ' , computeCost(x, y, theta))"
   ]
  },
  {
   "cell_type": "code",
   "execution_count": 19,
   "metadata": {},
   "outputs": [
    {
     "data": {
      "text/plain": [
       "Text(0.5, 1.0, 'Error vs. Training Epoch')"
      ]
     },
     "execution_count": 19,
     "metadata": {},
     "output_type": "execute_result"
    },
    {
     "data": {
      "image/png": "[encoded data removed]",
      "text/plain": [
       "<Figure size 360x360 with 1 Axes>"
      ]
     },
     "metadata": {
      "needs_background": "light"
     },
     "output_type": "display_data"
    }
   ],
   "source": [
    "fig, ax = plt.subplots(figsize=(5,5))\n",
    "ax.plot(np.arange(iters), cost, 'r')\n",
    "ax.set_xlabel('Iterations')\n",
    "ax.set_ylabel('Cost')\n",
    "ax.set_title('Error vs. Training Epoch')"
   ]
  },
  {
   "cell_type": "code",
   "execution_count": 25,
   "metadata": {},
   "outputs": [
    {
     "data": {
      "text/plain": [
       "Text(0.5, 1.0, 'x1 v.s y')"
      ]
     },
     "execution_count": 25,
     "metadata": {},
     "output_type": "execute_result"
    },
    {
     "data": {
      "image/png": "[encoded data removed]",
      "text/plain": [
       "<Figure size 360x360 with 1 Axes>"
      ]
     },
     "metadata": {
      "needs_background": "light"
     },
     "output_type": "display_data"
    }
   ],
   "source": [
    "x = np.linspace(data.x1.min(), data.x1.max(), 100)\n",
    "f = theta[0, 0] + (theta[0, 1] * x)\n",
    "fig, ax = plt.subplots(figsize=(5,5))\n",
    "ax.plot(x, f, 'r', label='Prediction')\n",
    "ax.scatter(data.x1, data.y, label='Traning Data')\n",
    "ax.legend(loc=2)\n",
    "ax.set_xlabel('x1')\n",
    "ax.set_ylabel('y')\n",
    "ax.set_title('x1 v.s y')"
   ]
  },
  {
   "attachments": {
    "image-2.png": {
     "image/png": "[encoded data removed]"
    },
    "image-3.png": {
     "image/png": "[encoded data removed]"
    },
    "image.png": {
     "image/png": "[encoded data removed]"
    }
   },
   "cell_type": "markdown",
   "metadata": {},
   "source": [
    "#### Use R2 score to evaluate LR equation output\n",
    "![image.png](attachment:image.png)\n",
    "![image-2.png](attachment:image-2.png)\n",
    "![image-3.png](attachment:image-3.png)\n",
    "https://en.wikipedia.org/wiki/Coefficient_of_determination"
   ]
  },
  {
   "cell_type": "code",
   "execution_count": 26,
   "metadata": {},
   "outputs": [],
   "source": [
    "from sklearn.metrics import r2_score"
   ]
  },
  {
   "cell_type": "code",
   "execution_count": 29,
   "metadata": {},
   "outputs": [
    {
     "name": "stdout",
     "output_type": "stream",
     "text": [
      "R2 score for the  data is  0.7406996532992384\n"
     ]
    }
   ],
   "source": [
    "predicted_y = theta[0, 0] + (theta[0, 1] * data.x1.values)\n",
    "print(\"R2 score for the  data is \", r2_score(y,predicted_y))"
   ]
  },
  {
   "cell_type": "markdown",
   "metadata": {},
   "source": [
    "## Multivariate LR"
   ]
  },
  {
   "cell_type": "code",
   "execution_count": 1,
   "metadata": {},
   "outputs": [],
   "source": [
    "import numpy as np \n",
    "import pandas as pd\n",
    "import matplotlib.pyplot as plt"
   ]
  },
  {
   "cell_type": "code",
   "execution_count": 2,
   "metadata": {},
   "outputs": [
    {
     "data": {
      "text/html": [
       "<div>\n",
       "<style scoped>\n",
       "    .dataframe tbody tr th:only-of-type {\n",
       "        vertical-align: middle;\n",
       "    }\n",
       "\n",
       "    .dataframe tbody tr th {\n",
       "        vertical-align: top;\n",
       "    }\n",
       "\n",
       "    .dataframe thead th {\n",
       "        text-align: right;\n",
       "    }\n",
       "</style>\n",
       "<table border=\"1\" class=\"dataframe\">\n",
       "  <thead>\n",
       "    <tr style=\"text-align: right;\">\n",
       "      <th></th>\n",
       "      <th>x1</th>\n",
       "      <th>x2</th>\n",
       "      <th>x3</th>\n",
       "      <th>y</th>\n",
       "    </tr>\n",
       "  </thead>\n",
       "  <tbody>\n",
       "    <tr>\n",
       "      <th>0</th>\n",
       "      <td>73</td>\n",
       "      <td>80</td>\n",
       "      <td>75</td>\n",
       "      <td>152</td>\n",
       "    </tr>\n",
       "    <tr>\n",
       "      <th>1</th>\n",
       "      <td>93</td>\n",
       "      <td>88</td>\n",
       "      <td>93</td>\n",
       "      <td>185</td>\n",
       "    </tr>\n",
       "    <tr>\n",
       "      <th>2</th>\n",
       "      <td>89</td>\n",
       "      <td>91</td>\n",
       "      <td>90</td>\n",
       "      <td>180</td>\n",
       "    </tr>\n",
       "    <tr>\n",
       "      <th>3</th>\n",
       "      <td>96</td>\n",
       "      <td>98</td>\n",
       "      <td>100</td>\n",
       "      <td>196</td>\n",
       "    </tr>\n",
       "    <tr>\n",
       "      <th>4</th>\n",
       "      <td>73</td>\n",
       "      <td>66</td>\n",
       "      <td>70</td>\n",
       "      <td>142</td>\n",
       "    </tr>\n",
       "    <tr>\n",
       "      <th>5</th>\n",
       "      <td>53</td>\n",
       "      <td>46</td>\n",
       "      <td>55</td>\n",
       "      <td>101</td>\n",
       "    </tr>\n",
       "    <tr>\n",
       "      <th>6</th>\n",
       "      <td>69</td>\n",
       "      <td>74</td>\n",
       "      <td>77</td>\n",
       "      <td>149</td>\n",
       "    </tr>\n",
       "    <tr>\n",
       "      <th>7</th>\n",
       "      <td>47</td>\n",
       "      <td>56</td>\n",
       "      <td>60</td>\n",
       "      <td>115</td>\n",
       "    </tr>\n",
       "    <tr>\n",
       "      <th>8</th>\n",
       "      <td>87</td>\n",
       "      <td>79</td>\n",
       "      <td>90</td>\n",
       "      <td>175</td>\n",
       "    </tr>\n",
       "    <tr>\n",
       "      <th>9</th>\n",
       "      <td>79</td>\n",
       "      <td>70</td>\n",
       "      <td>88</td>\n",
       "      <td>164</td>\n",
       "    </tr>\n",
       "  </tbody>\n",
       "</table>\n",
       "</div>"
      ],
      "text/plain": [
       "   x1  x2   x3    y\n",
       "0  73  80   75  152\n",
       "1  93  88   93  185\n",
       "2  89  91   90  180\n",
       "3  96  98  100  196\n",
       "4  73  66   70  142\n",
       "5  53  46   55  101\n",
       "6  69  74   77  149\n",
       "7  47  56   60  115\n",
       "8  87  79   90  175\n",
       "9  79  70   88  164"
      ]
     },
     "execution_count": 2,
     "metadata": {},
     "output_type": "execute_result"
    }
   ],
   "source": [
    "data3=pd.read_csv(r'D:\\numerical op\\intake 1\\labs\\MultipleLR.csv',header=None,names=['x1','x2','x3','y'])\n",
    "data3.head(10)"
   ]
  },
  {
   "cell_type": "code",
   "execution_count": 3,
   "metadata": {},
   "outputs": [
    {
     "name": "stdout",
     "output_type": "stream",
     "text": [
      "<class 'pandas.core.frame.DataFrame'>\n",
      "RangeIndex: 25 entries, 0 to 24\n",
      "Data columns (total 4 columns):\n",
      " #   Column  Non-Null Count  Dtype\n",
      "---  ------  --------------  -----\n",
      " 0   x1      25 non-null     int64\n",
      " 1   x2      25 non-null     int64\n",
      " 2   x3      25 non-null     int64\n",
      " 3   y       25 non-null     int64\n",
      "dtypes: int64(4)\n",
      "memory usage: 928.0 bytes\n"
     ]
    }
   ],
   "source": [
    "data3.info()"
   ]
  },
  {
   "cell_type": "code",
   "execution_count": 4,
   "metadata": {},
   "outputs": [
    {
     "data": {
      "text/html": [
       "<div>\n",
       "<style scoped>\n",
       "    .dataframe tbody tr th:only-of-type {\n",
       "        vertical-align: middle;\n",
       "    }\n",
       "\n",
       "    .dataframe tbody tr th {\n",
       "        vertical-align: top;\n",
       "    }\n",
       "\n",
       "    .dataframe thead th {\n",
       "        text-align: right;\n",
       "    }\n",
       "</style>\n",
       "<table border=\"1\" class=\"dataframe\">\n",
       "  <thead>\n",
       "    <tr style=\"text-align: right;\">\n",
       "      <th></th>\n",
       "      <th>x1</th>\n",
       "      <th>x2</th>\n",
       "      <th>x3</th>\n",
       "      <th>y</th>\n",
       "    </tr>\n",
       "  </thead>\n",
       "  <tbody>\n",
       "    <tr>\n",
       "      <th>count</th>\n",
       "      <td>25.000000</td>\n",
       "      <td>25.000000</td>\n",
       "      <td>25.000000</td>\n",
       "      <td>25.000000</td>\n",
       "    </tr>\n",
       "    <tr>\n",
       "      <th>mean</th>\n",
       "      <td>79.040000</td>\n",
       "      <td>79.480000</td>\n",
       "      <td>81.480000</td>\n",
       "      <td>162.040000</td>\n",
       "    </tr>\n",
       "    <tr>\n",
       "      <th>std</th>\n",
       "      <td>12.279658</td>\n",
       "      <td>12.503733</td>\n",
       "      <td>11.765486</td>\n",
       "      <td>24.044195</td>\n",
       "    </tr>\n",
       "    <tr>\n",
       "      <th>min</th>\n",
       "      <td>47.000000</td>\n",
       "      <td>46.000000</td>\n",
       "      <td>55.000000</td>\n",
       "      <td>101.000000</td>\n",
       "    </tr>\n",
       "    <tr>\n",
       "      <th>25%</th>\n",
       "      <td>73.000000</td>\n",
       "      <td>73.000000</td>\n",
       "      <td>73.000000</td>\n",
       "      <td>148.000000</td>\n",
       "    </tr>\n",
       "    <tr>\n",
       "      <th>50%</th>\n",
       "      <td>79.000000</td>\n",
       "      <td>82.000000</td>\n",
       "      <td>85.000000</td>\n",
       "      <td>164.000000</td>\n",
       "    </tr>\n",
       "    <tr>\n",
       "      <th>75%</th>\n",
       "      <td>88.000000</td>\n",
       "      <td>89.000000</td>\n",
       "      <td>90.000000</td>\n",
       "      <td>180.000000</td>\n",
       "    </tr>\n",
       "    <tr>\n",
       "      <th>max</th>\n",
       "      <td>96.000000</td>\n",
       "      <td>98.000000</td>\n",
       "      <td>100.000000</td>\n",
       "      <td>196.000000</td>\n",
       "    </tr>\n",
       "  </tbody>\n",
       "</table>\n",
       "</div>"
      ],
      "text/plain": [
       "              x1         x2          x3           y\n",
       "count  25.000000  25.000000   25.000000   25.000000\n",
       "mean   79.040000  79.480000   81.480000  162.040000\n",
       "std    12.279658  12.503733   11.765486   24.044195\n",
       "min    47.000000  46.000000   55.000000  101.000000\n",
       "25%    73.000000  73.000000   73.000000  148.000000\n",
       "50%    79.000000  82.000000   85.000000  164.000000\n",
       "75%    88.000000  89.000000   90.000000  180.000000\n",
       "max    96.000000  98.000000  100.000000  196.000000"
      ]
     },
     "execution_count": 4,
     "metadata": {},
     "output_type": "execute_result"
    }
   ],
   "source": [
    "data3.describe()"
   ]
  },
  {
   "cell_type": "code",
   "execution_count": 5,
   "metadata": {},
   "outputs": [],
   "source": [
    "#data3=(data3-data3.mean())/data3.std()"
   ]
  },
  {
   "cell_type": "code",
   "execution_count": 6,
   "metadata": {},
   "outputs": [],
   "source": [
    "#data3.head(10)"
   ]
  },
  {
   "cell_type": "code",
   "execution_count": 7,
   "metadata": {},
   "outputs": [
    {
     "data": {
      "text/html": [
       "<div>\n",
       "<style scoped>\n",
       "    .dataframe tbody tr th:only-of-type {\n",
       "        vertical-align: middle;\n",
       "    }\n",
       "\n",
       "    .dataframe tbody tr th {\n",
       "        vertical-align: top;\n",
       "    }\n",
       "\n",
       "    .dataframe thead th {\n",
       "        text-align: right;\n",
       "    }\n",
       "</style>\n",
       "<table border=\"1\" class=\"dataframe\">\n",
       "  <thead>\n",
       "    <tr style=\"text-align: right;\">\n",
       "      <th></th>\n",
       "      <th>ones</th>\n",
       "      <th>x1</th>\n",
       "      <th>x2</th>\n",
       "      <th>x3</th>\n",
       "      <th>y</th>\n",
       "    </tr>\n",
       "  </thead>\n",
       "  <tbody>\n",
       "    <tr>\n",
       "      <th>0</th>\n",
       "      <td>1</td>\n",
       "      <td>73</td>\n",
       "      <td>80</td>\n",
       "      <td>75</td>\n",
       "      <td>152</td>\n",
       "    </tr>\n",
       "    <tr>\n",
       "      <th>1</th>\n",
       "      <td>1</td>\n",
       "      <td>93</td>\n",
       "      <td>88</td>\n",
       "      <td>93</td>\n",
       "      <td>185</td>\n",
       "    </tr>\n",
       "    <tr>\n",
       "      <th>2</th>\n",
       "      <td>1</td>\n",
       "      <td>89</td>\n",
       "      <td>91</td>\n",
       "      <td>90</td>\n",
       "      <td>180</td>\n",
       "    </tr>\n",
       "    <tr>\n",
       "      <th>3</th>\n",
       "      <td>1</td>\n",
       "      <td>96</td>\n",
       "      <td>98</td>\n",
       "      <td>100</td>\n",
       "      <td>196</td>\n",
       "    </tr>\n",
       "    <tr>\n",
       "      <th>4</th>\n",
       "      <td>1</td>\n",
       "      <td>73</td>\n",
       "      <td>66</td>\n",
       "      <td>70</td>\n",
       "      <td>142</td>\n",
       "    </tr>\n",
       "    <tr>\n",
       "      <th>5</th>\n",
       "      <td>1</td>\n",
       "      <td>53</td>\n",
       "      <td>46</td>\n",
       "      <td>55</td>\n",
       "      <td>101</td>\n",
       "    </tr>\n",
       "    <tr>\n",
       "      <th>6</th>\n",
       "      <td>1</td>\n",
       "      <td>69</td>\n",
       "      <td>74</td>\n",
       "      <td>77</td>\n",
       "      <td>149</td>\n",
       "    </tr>\n",
       "    <tr>\n",
       "      <th>7</th>\n",
       "      <td>1</td>\n",
       "      <td>47</td>\n",
       "      <td>56</td>\n",
       "      <td>60</td>\n",
       "      <td>115</td>\n",
       "    </tr>\n",
       "    <tr>\n",
       "      <th>8</th>\n",
       "      <td>1</td>\n",
       "      <td>87</td>\n",
       "      <td>79</td>\n",
       "      <td>90</td>\n",
       "      <td>175</td>\n",
       "    </tr>\n",
       "    <tr>\n",
       "      <th>9</th>\n",
       "      <td>1</td>\n",
       "      <td>79</td>\n",
       "      <td>70</td>\n",
       "      <td>88</td>\n",
       "      <td>164</td>\n",
       "    </tr>\n",
       "  </tbody>\n",
       "</table>\n",
       "</div>"
      ],
      "text/plain": [
       "   ones  x1  x2   x3    y\n",
       "0     1  73  80   75  152\n",
       "1     1  93  88   93  185\n",
       "2     1  89  91   90  180\n",
       "3     1  96  98  100  196\n",
       "4     1  73  66   70  142\n",
       "5     1  53  46   55  101\n",
       "6     1  69  74   77  149\n",
       "7     1  47  56   60  115\n",
       "8     1  87  79   90  175\n",
       "9     1  79  70   88  164"
      ]
     },
     "execution_count": 7,
     "metadata": {},
     "output_type": "execute_result"
    }
   ],
   "source": [
    "data3.insert(0,'ones',1)\n",
    "data3.head(10)"
   ]
  },
  {
   "cell_type": "code",
   "execution_count": 8,
   "metadata": {},
   "outputs": [],
   "source": [
    "cols=data3.shape[1]\n",
    "X=data3.iloc[:,0:cols-1]\n",
    "Y=data3.iloc[:,cols-1:cols]"
   ]
  },
  {
   "cell_type": "code",
   "execution_count": 9,
   "metadata": {},
   "outputs": [
    {
     "data": {
      "text/html": [
       "<div>\n",
       "<style scoped>\n",
       "    .dataframe tbody tr th:only-of-type {\n",
       "        vertical-align: middle;\n",
       "    }\n",
       "\n",
       "    .dataframe tbody tr th {\n",
       "        vertical-align: top;\n",
       "    }\n",
       "\n",
       "    .dataframe thead th {\n",
       "        text-align: right;\n",
       "    }\n",
       "</style>\n",
       "<table border=\"1\" class=\"dataframe\">\n",
       "  <thead>\n",
       "    <tr style=\"text-align: right;\">\n",
       "      <th></th>\n",
       "      <th>ones</th>\n",
       "      <th>x1</th>\n",
       "      <th>x2</th>\n",
       "      <th>x3</th>\n",
       "    </tr>\n",
       "  </thead>\n",
       "  <tbody>\n",
       "    <tr>\n",
       "      <th>0</th>\n",
       "      <td>1</td>\n",
       "      <td>73</td>\n",
       "      <td>80</td>\n",
       "      <td>75</td>\n",
       "    </tr>\n",
       "    <tr>\n",
       "      <th>1</th>\n",
       "      <td>1</td>\n",
       "      <td>93</td>\n",
       "      <td>88</td>\n",
       "      <td>93</td>\n",
       "    </tr>\n",
       "    <tr>\n",
       "      <th>2</th>\n",
       "      <td>1</td>\n",
       "      <td>89</td>\n",
       "      <td>91</td>\n",
       "      <td>90</td>\n",
       "    </tr>\n",
       "    <tr>\n",
       "      <th>3</th>\n",
       "      <td>1</td>\n",
       "      <td>96</td>\n",
       "      <td>98</td>\n",
       "      <td>100</td>\n",
       "    </tr>\n",
       "    <tr>\n",
       "      <th>4</th>\n",
       "      <td>1</td>\n",
       "      <td>73</td>\n",
       "      <td>66</td>\n",
       "      <td>70</td>\n",
       "    </tr>\n",
       "    <tr>\n",
       "      <th>5</th>\n",
       "      <td>1</td>\n",
       "      <td>53</td>\n",
       "      <td>46</td>\n",
       "      <td>55</td>\n",
       "    </tr>\n",
       "    <tr>\n",
       "      <th>6</th>\n",
       "      <td>1</td>\n",
       "      <td>69</td>\n",
       "      <td>74</td>\n",
       "      <td>77</td>\n",
       "    </tr>\n",
       "    <tr>\n",
       "      <th>7</th>\n",
       "      <td>1</td>\n",
       "      <td>47</td>\n",
       "      <td>56</td>\n",
       "      <td>60</td>\n",
       "    </tr>\n",
       "    <tr>\n",
       "      <th>8</th>\n",
       "      <td>1</td>\n",
       "      <td>87</td>\n",
       "      <td>79</td>\n",
       "      <td>90</td>\n",
       "    </tr>\n",
       "    <tr>\n",
       "      <th>9</th>\n",
       "      <td>1</td>\n",
       "      <td>79</td>\n",
       "      <td>70</td>\n",
       "      <td>88</td>\n",
       "    </tr>\n",
       "  </tbody>\n",
       "</table>\n",
       "</div>"
      ],
      "text/plain": [
       "   ones  x1  x2   x3\n",
       "0     1  73  80   75\n",
       "1     1  93  88   93\n",
       "2     1  89  91   90\n",
       "3     1  96  98  100\n",
       "4     1  73  66   70\n",
       "5     1  53  46   55\n",
       "6     1  69  74   77\n",
       "7     1  47  56   60\n",
       "8     1  87  79   90\n",
       "9     1  79  70   88"
      ]
     },
     "execution_count": 9,
     "metadata": {},
     "output_type": "execute_result"
    }
   ],
   "source": [
    "X.head(10)"
   ]
  },
  {
   "cell_type": "code",
   "execution_count": 10,
   "metadata": {},
   "outputs": [
    {
     "data": {
      "text/html": [
       "<div>\n",
       "<style scoped>\n",
       "    .dataframe tbody tr th:only-of-type {\n",
       "        vertical-align: middle;\n",
       "    }\n",
       "\n",
       "    .dataframe tbody tr th {\n",
       "        vertical-align: top;\n",
       "    }\n",
       "\n",
       "    .dataframe thead th {\n",
       "        text-align: right;\n",
       "    }\n",
       "</style>\n",
       "<table border=\"1\" class=\"dataframe\">\n",
       "  <thead>\n",
       "    <tr style=\"text-align: right;\">\n",
       "      <th></th>\n",
       "      <th>y</th>\n",
       "    </tr>\n",
       "  </thead>\n",
       "  <tbody>\n",
       "    <tr>\n",
       "      <th>0</th>\n",
       "      <td>152</td>\n",
       "    </tr>\n",
       "    <tr>\n",
       "      <th>1</th>\n",
       "      <td>185</td>\n",
       "    </tr>\n",
       "    <tr>\n",
       "      <th>2</th>\n",
       "      <td>180</td>\n",
       "    </tr>\n",
       "    <tr>\n",
       "      <th>3</th>\n",
       "      <td>196</td>\n",
       "    </tr>\n",
       "    <tr>\n",
       "      <th>4</th>\n",
       "      <td>142</td>\n",
       "    </tr>\n",
       "    <tr>\n",
       "      <th>5</th>\n",
       "      <td>101</td>\n",
       "    </tr>\n",
       "    <tr>\n",
       "      <th>6</th>\n",
       "      <td>149</td>\n",
       "    </tr>\n",
       "    <tr>\n",
       "      <th>7</th>\n",
       "      <td>115</td>\n",
       "    </tr>\n",
       "    <tr>\n",
       "      <th>8</th>\n",
       "      <td>175</td>\n",
       "    </tr>\n",
       "    <tr>\n",
       "      <th>9</th>\n",
       "      <td>164</td>\n",
       "    </tr>\n",
       "  </tbody>\n",
       "</table>\n",
       "</div>"
      ],
      "text/plain": [
       "     y\n",
       "0  152\n",
       "1  185\n",
       "2  180\n",
       "3  196\n",
       "4  142\n",
       "5  101\n",
       "6  149\n",
       "7  115\n",
       "8  175\n",
       "9  164"
      ]
     },
     "execution_count": 10,
     "metadata": {},
     "output_type": "execute_result"
    }
   ],
   "source": [
    "Y.head(10)"
   ]
  },
  {
   "cell_type": "code",
   "execution_count": 11,
   "metadata": {},
   "outputs": [],
   "source": [
    "x=np.matrix(X.values)\n",
    "y=np.matrix(Y.values)"
   ]
  },
  {
   "cell_type": "code",
   "execution_count": 12,
   "metadata": {},
   "outputs": [
    {
     "name": "stdout",
     "output_type": "stream",
     "text": [
      "[[  1  73  80  75]\n",
      " [  1  93  88  93]\n",
      " [  1  89  91  90]\n",
      " [  1  96  98 100]\n",
      " [  1  73  66  70]\n",
      " [  1  53  46  55]\n",
      " [  1  69  74  77]\n",
      " [  1  47  56  60]\n",
      " [  1  87  79  90]\n",
      " [  1  79  70  88]\n",
      " [  1  69  70  73]\n",
      " [  1  70  65  74]\n",
      " [  1  93  95  91]\n",
      " [  1  79  80  73]\n",
      " [  1  70  73  78]\n",
      " [  1  93  89  96]\n",
      " [  1  78  75  68]\n",
      " [  1  81  90  93]\n",
      " [  1  88  92  86]\n",
      " [  1  78  83  77]\n",
      " [  1  82  86  90]\n",
      " [  1  86  82  89]\n",
      " [  1  78  83  85]\n",
      " [  1  76  83  71]\n",
      " [  1  96  93  95]]\n",
      "[[152]\n",
      " [185]\n",
      " [180]\n",
      " [196]\n",
      " [142]\n",
      " [101]\n",
      " [149]\n",
      " [115]\n",
      " [175]\n",
      " [164]\n",
      " [141]\n",
      " [141]\n",
      " [184]\n",
      " [152]\n",
      " [148]\n",
      " [192]\n",
      " [147]\n",
      " [183]\n",
      " [177]\n",
      " [159]\n",
      " [177]\n",
      " [175]\n",
      " [175]\n",
      " [149]\n",
      " [192]]\n"
     ]
    }
   ],
   "source": [
    "print(x)\n",
    "print(y)"
   ]
  },
  {
   "cell_type": "code",
   "execution_count": 13,
   "metadata": {},
   "outputs": [
    {
     "name": "stdout",
     "output_type": "stream",
     "text": [
      "(1, 4)\n"
     ]
    }
   ],
   "source": [
    "theta=np.matrix(np.array([0,0,0,0]))\n",
    "print(theta.shape)"
   ]
  },
  {
   "cell_type": "code",
   "execution_count": 14,
   "metadata": {},
   "outputs": [],
   "source": [
    "alpha=0.0001\n",
    "iters=1000"
   ]
  },
  {
   "cell_type": "code",
   "execution_count": 15,
   "metadata": {},
   "outputs": [
    {
     "name": "stdout",
     "output_type": "stream",
     "text": [
      "computeCost(x, y, theta) =  13405.98\n"
     ]
    }
   ],
   "source": [
    "def computeCost(x, y, theta):\n",
    "    z = np.power(((x * theta.T) - y), 2)\n",
    "    return np.sum(z) / (2 * len(x))\n",
    "\n",
    "print('computeCost(x, y, theta) = ' , computeCost(x, y, theta))"
   ]
  },
  {
   "cell_type": "code",
   "execution_count": 16,
   "metadata": {},
   "outputs": [],
   "source": [
    "def gradientDescent(x, y, theta, alpha, iters):  \n",
    "    \n",
    "    temp = np.matrix(np.zeros(theta.shape))\n",
    "    parameters = int(theta.ravel().shape[1])\n",
    "    cost = np.zeros(iters)\n",
    "    \n",
    "    for i in range(iters):\n",
    "        error = (x * theta.T) - y\n",
    "        \n",
    "        for j in range(parameters):\n",
    "            term = np.multiply(error, x[:,j])\n",
    "            temp[0,j] = theta[0,j] - ((alpha / len(x)) * np.sum(term))\n",
    "            \n",
    "        theta = temp\n",
    "        cost[i] = computeCost(x, y, theta)\n",
    "        \n",
    "    return theta, cost"
   ]
  },
  {
   "cell_type": "code",
   "execution_count": 17,
   "metadata": {},
   "outputs": [],
   "source": [
    "theta_values,cost=gradientDescent(x,y,theta,alpha,iters)"
   ]
  },
  {
   "cell_type": "code",
   "execution_count": 18,
   "metadata": {},
   "outputs": [
    {
     "name": "stdout",
     "output_type": "stream",
     "text": [
      "[[0.00289951 0.44203697 0.51777825 1.05569807]]\n"
     ]
    }
   ],
   "source": [
    "print(theta_values)"
   ]
  },
  {
   "cell_type": "code",
   "execution_count": 19,
   "metadata": {},
   "outputs": [
    {
     "name": "stdout",
     "output_type": "stream",
     "text": [
      "[1.23486676e+04 1.13747790e+04 1.04777319e+04 9.65146312e+03\n",
      " 8.89038823e+03 8.18936324e+03 7.54365006e+03 6.94888445e+03\n",
      " 6.40104653e+03 5.89643360e+03 5.43163509e+03 5.00350955e+03\n",
      " 4.60916339e+03 4.24593135e+03 3.91135844e+03 3.60318339e+03\n",
      " 3.31932334e+03 3.05785979e+03 2.81702559e+03 2.59519305e+03\n",
      " 2.39086289e+03 2.20265413e+03 2.02929475e+03 1.86961311e+03\n",
      " 1.72253000e+03 1.58705137e+03 1.46226159e+03 1.34731730e+03\n",
      " 1.24144166e+03 1.14391914e+03 1.05409066e+03 9.71349142e+02\n",
      " 8.95135410e+02 8.24934410e+02 7.60271723e+02 7.00710368e+02\n",
      " 6.45847838e+02 5.95313387e+02 5.48765523e+02 5.05889697e+02\n",
      " 4.66396178e+02 4.30018097e+02 3.96509641e+02 3.65644392e+02\n",
      " 3.37213797e+02 3.11025759e+02 2.86903337e+02 2.64683552e+02\n",
      " 2.44216284e+02 2.25363257e+02 2.07997108e+02 1.92000519e+02\n",
      " 1.77265432e+02 1.63692314e+02 1.51189486e+02 1.39672502e+02\n",
      " 1.29063578e+02 1.19291070e+02 1.10288984e+02 1.01996535e+02\n",
      " 9.43577340e+01 8.73210086e+01 8.08388562e+01 7.48675222e+01\n",
      " 6.93667045e+01 6.42992806e+01 5.96310572e+01 5.53305391e+01\n",
      " 5.13687159e+01 4.77188662e+01 4.43563771e+01 4.12585776e+01\n",
      " 3.84045856e+01 3.57751665e+01 3.33526034e+01 3.11205774e+01\n",
      " 2.90640571e+01 2.71691970e+01 2.54232442e+01 2.38144521e+01\n",
      " 2.23320006e+01 2.09659236e+01 1.97070413e+01 1.85468981e+01\n",
      " 1.74777056e+01 1.64922900e+01 1.55840434e+01 1.47468794e+01\n",
      " 1.39751916e+01 1.32638162e+01 1.26079967e+01 1.20033519e+01\n",
      " 1.14458462e+01 1.09317627e+01 1.04576774e+01 1.00204367e+01\n",
      " 9.61713560e+00 9.24509855e+00 8.90186095e+00 8.58515268e+00\n",
      " 8.29288274e+00 8.02312508e+00 7.77410564e+00 7.54419032e+00\n",
      " 7.33187394e+00 7.13577008e+00 6.95460169e+00 6.78719250e+00\n",
      " 6.63245900e+00 6.48940321e+00 6.35710585e+00 6.23472017e+00\n",
      " 6.12146624e+00 6.01662564e+00 5.91953664e+00 5.82958970e+00\n",
      " 5.74622337e+00 5.66892050e+00 5.59720473e+00 5.53063727e+00\n",
      " 5.46881396e+00 5.41136250e+00 5.35793998e+00 5.30823051e+00\n",
      " 5.26194314e+00 5.21880986e+00 5.17858380e+00 5.14103755e+00\n",
      " 5.10596165e+00 5.07316316e+00 5.04246433e+00 5.01370145e+00\n",
      " 4.98672372e+00 4.96139222e+00 4.93757898e+00 4.91516614e+00\n",
      " 4.89404510e+00 4.87411585e+00 4.85528624e+00 4.83747141e+00\n",
      " 4.82059316e+00 4.80457947e+00 4.78936399e+00 4.77488559e+00\n",
      " 4.76108796e+00 4.74791924e+00 4.73533163e+00 4.72328111e+00\n",
      " 4.71172712e+00 4.70063229e+00 4.68996220e+00 4.67968514e+00\n",
      " 4.66977188e+00 4.66019549e+00 4.65093117e+00 4.64195607e+00\n",
      " 4.63324912e+00 4.62479092e+00 4.61656359e+00 4.60855064e+00\n",
      " 4.60073689e+00 4.59310835e+00 4.58565212e+00 4.57835632e+00\n",
      " 4.57120998e+00 4.56420300e+00 4.55732609e+00 4.55057066e+00\n",
      " 4.54392879e+00 4.53739320e+00 4.53095715e+00 4.52461445e+00\n",
      " 4.51835937e+00 4.51218664e+00 4.50609141e+00 4.50006917e+00\n",
      " 4.49411578e+00 4.48822744e+00 4.48240060e+00 4.47663202e+00\n",
      " 4.47091869e+00 4.46525784e+00 4.45964691e+00 4.45408352e+00\n",
      " 4.44856550e+00 4.44309083e+00 4.43765763e+00 4.43226418e+00\n",
      " 4.42690889e+00 4.42159028e+00 4.41630698e+00 4.41105773e+00\n",
      " 4.40584135e+00 4.40065677e+00 4.39550297e+00 4.39037902e+00\n",
      " 4.38528405e+00 4.38021727e+00 4.37517793e+00 4.37016533e+00\n",
      " 4.36517883e+00 4.36021783e+00 4.35528177e+00 4.35037014e+00\n",
      " 4.34548243e+00 4.34061821e+00 4.33577705e+00 4.33095855e+00\n",
      " 4.32616235e+00 4.32138809e+00 4.31663545e+00 4.31190412e+00\n",
      " 4.30719383e+00 4.30250429e+00 4.29783525e+00 4.29318648e+00\n",
      " 4.28855774e+00 4.28394882e+00 4.27935952e+00 4.27478964e+00\n",
      " 4.27023900e+00 4.26570743e+00 4.26119476e+00 4.25670082e+00\n",
      " 4.25222548e+00 4.24776859e+00 4.24332999e+00 4.23890957e+00\n",
      " 4.23450720e+00 4.23012274e+00 4.22575608e+00 4.22140711e+00\n",
      " 4.21707571e+00 4.21276178e+00 4.20846521e+00 4.20418590e+00\n",
      " 4.19992375e+00 4.19567866e+00 4.19145055e+00 4.18723931e+00\n",
      " 4.18304487e+00 4.17886712e+00 4.17470599e+00 4.17056140e+00\n",
      " 4.16643326e+00 4.16232148e+00 4.15822600e+00 4.15414672e+00\n",
      " 4.15008358e+00 4.14603650e+00 4.14200541e+00 4.13799022e+00\n",
      " 4.13399087e+00 4.13000728e+00 4.12603939e+00 4.12208713e+00\n",
      " 4.11815041e+00 4.11422919e+00 4.11032337e+00 4.10643291e+00\n",
      " 4.10255774e+00 4.09869777e+00 4.09485296e+00 4.09102324e+00\n",
      " 4.08720853e+00 4.08340878e+00 4.07962393e+00 4.07585390e+00\n",
      " 4.07209864e+00 4.06835809e+00 4.06463217e+00 4.06092084e+00\n",
      " 4.05722403e+00 4.05354167e+00 4.04987371e+00 4.04622010e+00\n",
      " 4.04258075e+00 4.03895563e+00 4.03534467e+00 4.03174781e+00\n",
      " 4.02816499e+00 4.02459615e+00 4.02104124e+00 4.01750020e+00\n",
      " 4.01397297e+00 4.01045949e+00 4.00695971e+00 4.00347357e+00\n",
      " 4.00000101e+00 3.99654199e+00 3.99309644e+00 3.98966430e+00\n",
      " 3.98624553e+00 3.98284006e+00 3.97944785e+00 3.97606884e+00\n",
      " 3.97270297e+00 3.96935019e+00 3.96601044e+00 3.96268368e+00\n",
      " 3.95936986e+00 3.95606890e+00 3.95278078e+00 3.94950542e+00\n",
      " 3.94624278e+00 3.94299282e+00 3.93975546e+00 3.93653067e+00\n",
      " 3.93331840e+00 3.93011859e+00 3.92693118e+00 3.92375614e+00\n",
      " 3.92059341e+00 3.91744294e+00 3.91430467e+00 3.91117857e+00\n",
      " 3.90806458e+00 3.90496264e+00 3.90187272e+00 3.89879476e+00\n",
      " 3.89572872e+00 3.89267454e+00 3.88963218e+00 3.88660158e+00\n",
      " 3.88358271e+00 3.88057551e+00 3.87757993e+00 3.87459594e+00\n",
      " 3.87162347e+00 3.86866249e+00 3.86571295e+00 3.86277479e+00\n",
      " 3.85984799e+00 3.85693248e+00 3.85402822e+00 3.85113517e+00\n",
      " 3.84825328e+00 3.84538250e+00 3.84252280e+00 3.83967412e+00\n",
      " 3.83683642e+00 3.83400966e+00 3.83119379e+00 3.82838877e+00\n",
      " 3.82559455e+00 3.82281110e+00 3.82003835e+00 3.81727628e+00\n",
      " 3.81452484e+00 3.81178399e+00 3.80905368e+00 3.80633387e+00\n",
      " 3.80362451e+00 3.80092557e+00 3.79823701e+00 3.79555878e+00\n",
      " 3.79289083e+00 3.79023313e+00 3.78758564e+00 3.78494832e+00\n",
      " 3.78232111e+00 3.77970399e+00 3.77709692e+00 3.77449984e+00\n",
      " 3.77191272e+00 3.76933552e+00 3.76676821e+00 3.76421073e+00\n",
      " 3.76166306e+00 3.75912514e+00 3.75659695e+00 3.75407843e+00\n",
      " 3.75156956e+00 3.74907030e+00 3.74658060e+00 3.74410042e+00\n",
      " 3.74162974e+00 3.73916850e+00 3.73671667e+00 3.73427422e+00\n",
      " 3.73184110e+00 3.72941728e+00 3.72700272e+00 3.72459739e+00\n",
      " 3.72220124e+00 3.71981423e+00 3.71743634e+00 3.71506753e+00\n",
      " 3.71270775e+00 3.71035698e+00 3.70801517e+00 3.70568228e+00\n",
      " 3.70335830e+00 3.70104317e+00 3.69873686e+00 3.69643934e+00\n",
      " 3.69415057e+00 3.69187052e+00 3.68959914e+00 3.68733641e+00\n",
      " 3.68508230e+00 3.68283676e+00 3.68059976e+00 3.67837127e+00\n",
      " 3.67615125e+00 3.67393967e+00 3.67173649e+00 3.66954169e+00\n",
      " 3.66735523e+00 3.66517706e+00 3.66300717e+00 3.66084552e+00\n",
      " 3.65869207e+00 3.65654680e+00 3.65440966e+00 3.65228063e+00\n",
      " 3.65015967e+00 3.64804675e+00 3.64594184e+00 3.64384491e+00\n",
      " 3.64175592e+00 3.63967485e+00 3.63760165e+00 3.63553631e+00\n",
      " 3.63347878e+00 3.63142904e+00 3.62938706e+00 3.62735280e+00\n",
      " 3.62532623e+00 3.62330732e+00 3.62129605e+00 3.61929238e+00\n",
      " 3.61729628e+00 3.61530772e+00 3.61332667e+00 3.61135310e+00\n",
      " 3.60938698e+00 3.60742828e+00 3.60547697e+00 3.60353303e+00\n",
      " 3.60159641e+00 3.59966710e+00 3.59774506e+00 3.59583027e+00\n",
      " 3.59392269e+00 3.59202229e+00 3.59012906e+00 3.58824295e+00\n",
      " 3.58636395e+00 3.58449201e+00 3.58262712e+00 3.58076925e+00\n",
      " 3.57891837e+00 3.57707444e+00 3.57523745e+00 3.57340736e+00\n",
      " 3.57158415e+00 3.56976779e+00 3.56795825e+00 3.56615550e+00\n",
      " 3.56435953e+00 3.56257029e+00 3.56078777e+00 3.55901194e+00\n",
      " 3.55724277e+00 3.55548023e+00 3.55372430e+00 3.55197495e+00\n",
      " 3.55023216e+00 3.54849589e+00 3.54676613e+00 3.54504285e+00\n",
      " 3.54332602e+00 3.54161561e+00 3.53991161e+00 3.53821398e+00\n",
      " 3.53652270e+00 3.53483774e+00 3.53315909e+00 3.53148671e+00\n",
      " 3.52982057e+00 3.52816067e+00 3.52650696e+00 3.52485942e+00\n",
      " 3.52321804e+00 3.52158279e+00 3.51995363e+00 3.51833056e+00\n",
      " 3.51671354e+00 3.51510254e+00 3.51349756e+00 3.51189855e+00\n",
      " 3.51030550e+00 3.50871839e+00 3.50713719e+00 3.50556188e+00\n",
      " 3.50399243e+00 3.50242882e+00 3.50087103e+00 3.49931904e+00\n",
      " 3.49777282e+00 3.49623234e+00 3.49469760e+00 3.49316855e+00\n",
      " 3.49164519e+00 3.49012749e+00 3.48861542e+00 3.48710897e+00\n",
      " 3.48560811e+00 3.48411282e+00 3.48262308e+00 3.48113886e+00\n",
      " 3.47966015e+00 3.47818692e+00 3.47671915e+00 3.47525682e+00\n",
      " 3.47379990e+00 3.47234839e+00 3.47090225e+00 3.46946146e+00\n",
      " 3.46802600e+00 3.46659586e+00 3.46517101e+00 3.46375143e+00\n",
      " 3.46233709e+00 3.46092799e+00 3.45952409e+00 3.45812538e+00\n",
      " 3.45673184e+00 3.45534344e+00 3.45396017e+00 3.45258201e+00\n",
      " 3.45120893e+00 3.44984092e+00 3.44847795e+00 3.44712001e+00\n",
      " 3.44576708e+00 3.44441913e+00 3.44307615e+00 3.44173812e+00\n",
      " 3.44040502e+00 3.43907682e+00 3.43775352e+00 3.43643508e+00\n",
      " 3.43512150e+00 3.43381275e+00 3.43250881e+00 3.43120967e+00\n",
      " 3.42991530e+00 3.42862569e+00 3.42734082e+00 3.42606066e+00\n",
      " 3.42478521e+00 3.42351444e+00 3.42224833e+00 3.42098688e+00\n",
      " 3.41973004e+00 3.41847782e+00 3.41723019e+00 3.41598714e+00\n",
      " 3.41474863e+00 3.41351467e+00 3.41228523e+00 3.41106029e+00\n",
      " 3.40983983e+00 3.40862385e+00 3.40741231e+00 3.40620520e+00\n",
      " 3.40500251e+00 3.40380422e+00 3.40261031e+00 3.40142076e+00\n",
      " 3.40023556e+00 3.39905469e+00 3.39787813e+00 3.39670586e+00\n",
      " 3.39553788e+00 3.39437416e+00 3.39321468e+00 3.39205943e+00\n",
      " 3.39090840e+00 3.38976156e+00 3.38861890e+00 3.38748041e+00\n",
      " 3.38634606e+00 3.38521584e+00 3.38408974e+00 3.38296774e+00\n",
      " 3.38184982e+00 3.38073597e+00 3.37962617e+00 3.37852041e+00\n",
      " 3.37741867e+00 3.37632093e+00 3.37522717e+00 3.37413740e+00\n",
      " 3.37305158e+00 3.37196970e+00 3.37089175e+00 3.36981771e+00\n",
      " 3.36874757e+00 3.36768131e+00 3.36661892e+00 3.36556038e+00\n",
      " 3.36450567e+00 3.36345479e+00 3.36240771e+00 3.36136443e+00\n",
      " 3.36032492e+00 3.35928917e+00 3.35825718e+00 3.35722891e+00\n",
      " 3.35620437e+00 3.35518353e+00 3.35416638e+00 3.35315291e+00\n",
      " 3.35214310e+00 3.35113693e+00 3.35013440e+00 3.34913549e+00\n",
      " 3.34814019e+00 3.34714848e+00 3.34616034e+00 3.34517577e+00\n",
      " 3.34419475e+00 3.34321726e+00 3.34224330e+00 3.34127285e+00\n",
      " 3.34030589e+00 3.33934241e+00 3.33838241e+00 3.33742585e+00\n",
      " 3.33647274e+00 3.33552306e+00 3.33457679e+00 3.33363393e+00\n",
      " 3.33269445e+00 3.33175836e+00 3.33082562e+00 3.32989623e+00\n",
      " 3.32897018e+00 3.32804746e+00 3.32712805e+00 3.32621193e+00\n",
      " 3.32529910e+00 3.32438955e+00 3.32348325e+00 3.32258021e+00\n",
      " 3.32168040e+00 3.32078381e+00 3.31989043e+00 3.31900025e+00\n",
      " 3.31811326e+00 3.31722944e+00 3.31634879e+00 3.31547128e+00\n",
      " 3.31459691e+00 3.31372567e+00 3.31285754e+00 3.31199251e+00\n",
      " 3.31113058e+00 3.31027172e+00 3.30941592e+00 3.30856318e+00\n",
      " 3.30771349e+00 3.30686682e+00 3.30602317e+00 3.30518253e+00\n",
      " 3.30434489e+00 3.30351023e+00 3.30267855e+00 3.30184982e+00\n",
      " 3.30102405e+00 3.30020122e+00 3.29938131e+00 3.29856432e+00\n",
      " 3.29775024e+00 3.29693905e+00 3.29613075e+00 3.29532532e+00\n",
      " 3.29452275e+00 3.29372303e+00 3.29292615e+00 3.29213210e+00\n",
      " 3.29134087e+00 3.29055244e+00 3.28976681e+00 3.28898397e+00\n",
      " 3.28820390e+00 3.28742660e+00 3.28665205e+00 3.28588025e+00\n",
      " 3.28511118e+00 3.28434483e+00 3.28358119e+00 3.28282026e+00\n",
      " 3.28206202e+00 3.28130646e+00 3.28055357e+00 3.27980334e+00\n",
      " 3.27905576e+00 3.27831083e+00 3.27756852e+00 3.27682884e+00\n",
      " 3.27609177e+00 3.27535730e+00 3.27462542e+00 3.27389612e+00\n",
      " 3.27316939e+00 3.27244523e+00 3.27172362e+00 3.27100455e+00\n",
      " 3.27028801e+00 3.26957400e+00 3.26886249e+00 3.26815350e+00\n",
      " 3.26744700e+00 3.26674298e+00 3.26604144e+00 3.26534236e+00\n",
      " 3.26464575e+00 3.26395158e+00 3.26325985e+00 3.26257055e+00\n",
      " 3.26188366e+00 3.26119919e+00 3.26051712e+00 3.25983745e+00\n",
      " 3.25916015e+00 3.25848524e+00 3.25781268e+00 3.25714249e+00\n",
      " 3.25647464e+00 3.25580913e+00 3.25514595e+00 3.25448509e+00\n",
      " 3.25382655e+00 3.25317031e+00 3.25251636e+00 3.25186470e+00\n",
      " 3.25121532e+00 3.25056821e+00 3.24992336e+00 3.24928076e+00\n",
      " 3.24864041e+00 3.24800229e+00 3.24736639e+00 3.24673272e+00\n",
      " 3.24610125e+00 3.24547199e+00 3.24484492e+00 3.24422004e+00\n",
      " 3.24359733e+00 3.24297680e+00 3.24235842e+00 3.24174219e+00\n",
      " 3.24112812e+00 3.24051617e+00 3.23990636e+00 3.23929866e+00\n",
      " 3.23869308e+00 3.23808961e+00 3.23748823e+00 3.23688894e+00\n",
      " 3.23629173e+00 3.23569659e+00 3.23510352e+00 3.23451250e+00\n",
      " 3.23392354e+00 3.23333662e+00 3.23275173e+00 3.23216887e+00\n",
      " 3.23158803e+00 3.23100921e+00 3.23043238e+00 3.22985756e+00\n",
      " 3.22928472e+00 3.22871386e+00 3.22814498e+00 3.22757807e+00\n",
      " 3.22701312e+00 3.22645012e+00 3.22588906e+00 3.22532995e+00\n",
      " 3.22477276e+00 3.22421750e+00 3.22366415e+00 3.22311271e+00\n",
      " 3.22256318e+00 3.22201554e+00 3.22146979e+00 3.22092591e+00\n",
      " 3.22038392e+00 3.21984379e+00 3.21930552e+00 3.21876910e+00\n",
      " 3.21823453e+00 3.21770180e+00 3.21717090e+00 3.21664183e+00\n",
      " 3.21611457e+00 3.21558913e+00 3.21506549e+00 3.21454366e+00\n",
      " 3.21402361e+00 3.21350535e+00 3.21298887e+00 3.21247416e+00\n",
      " 3.21196122e+00 3.21145003e+00 3.21094060e+00 3.21043291e+00\n",
      " 3.20992697e+00 3.20942275e+00 3.20892026e+00 3.20841950e+00\n",
      " 3.20792044e+00 3.20742310e+00 3.20692746e+00 3.20643351e+00\n",
      " 3.20594125e+00 3.20545067e+00 3.20496177e+00 3.20447453e+00\n",
      " 3.20398897e+00 3.20350505e+00 3.20302280e+00 3.20254218e+00\n",
      " 3.20206321e+00 3.20158587e+00 3.20111015e+00 3.20063606e+00\n",
      " 3.20016359e+00 3.19969272e+00 3.19922345e+00 3.19875579e+00\n",
      " 3.19828971e+00 3.19782522e+00 3.19736231e+00 3.19690098e+00\n",
      " 3.19644121e+00 3.19598301e+00 3.19552636e+00 3.19507127e+00\n",
      " 3.19461771e+00 3.19416570e+00 3.19371523e+00 3.19326628e+00\n",
      " 3.19281885e+00 3.19237294e+00 3.19192854e+00 3.19148565e+00\n",
      " 3.19104426e+00 3.19060437e+00 3.19016596e+00 3.18972904e+00\n",
      " 3.18929359e+00 3.18885962e+00 3.18842712e+00 3.18799608e+00\n",
      " 3.18756650e+00 3.18713837e+00 3.18671168e+00 3.18628644e+00\n",
      " 3.18586263e+00 3.18544025e+00 3.18501930e+00 3.18459977e+00\n",
      " 3.18418165e+00 3.18376494e+00 3.18334964e+00 3.18293574e+00\n",
      " 3.18252323e+00 3.18211211e+00 3.18170237e+00 3.18129402e+00\n",
      " 3.18088703e+00 3.18048142e+00 3.18007717e+00 3.17967428e+00\n",
      " 3.17927275e+00 3.17887256e+00 3.17847372e+00 3.17807622e+00\n",
      " 3.17768005e+00 3.17728521e+00 3.17689170e+00 3.17649950e+00\n",
      " 3.17610863e+00 3.17571906e+00 3.17533080e+00 3.17494383e+00\n",
      " 3.17455817e+00 3.17417380e+00 3.17379071e+00 3.17340891e+00\n",
      " 3.17302838e+00 3.17264913e+00 3.17227114e+00 3.17189442e+00\n",
      " 3.17151896e+00 3.17114475e+00 3.17077179e+00 3.17040008e+00\n",
      " 3.17002960e+00 3.16966037e+00 3.16929236e+00 3.16892559e+00\n",
      " 3.16856003e+00 3.16819570e+00 3.16783258e+00 3.16747067e+00\n",
      " 3.16710996e+00 3.16675046e+00 3.16639215e+00 3.16603503e+00\n",
      " 3.16567911e+00 3.16532436e+00 3.16497080e+00 3.16461841e+00\n",
      " 3.16426719e+00 3.16391714e+00 3.16356826e+00 3.16322053e+00\n",
      " 3.16287395e+00 3.16252853e+00 3.16218425e+00 3.16184111e+00\n",
      " 3.16149911e+00 3.16115824e+00 3.16081851e+00 3.16047989e+00\n",
      " 3.16014240e+00 3.15980603e+00 3.15947077e+00 3.15913662e+00\n",
      " 3.15880358e+00 3.15847163e+00 3.15814079e+00 3.15781104e+00\n",
      " 3.15748237e+00 3.15715480e+00 3.15682830e+00 3.15650288e+00\n",
      " 3.15617854e+00 3.15585527e+00 3.15553306e+00 3.15521192e+00\n",
      " 3.15489183e+00 3.15457280e+00 3.15425482e+00 3.15393789e+00\n",
      " 3.15362200e+00 3.15330715e+00 3.15299334e+00 3.15268056e+00\n",
      " 3.15236881e+00 3.15205808e+00 3.15174838e+00 3.15143969e+00\n",
      " 3.15113202e+00 3.15082535e+00 3.15051970e+00 3.15021505e+00\n",
      " 3.14991139e+00 3.14960874e+00 3.14930707e+00 3.14900640e+00\n",
      " 3.14870671e+00 3.14840800e+00 3.14811028e+00 3.14781352e+00\n",
      " 3.14751774e+00 3.14722293e+00 3.14692908e+00 3.14663619e+00\n",
      " 3.14634426e+00 3.14605329e+00 3.14576326e+00 3.14547419e+00\n",
      " 3.14518605e+00 3.14489886e+00 3.14461261e+00 3.14432729e+00\n",
      " 3.14404290e+00 3.14375944e+00 3.14347691e+00 3.14319529e+00\n",
      " 3.14291459e+00 3.14263481e+00 3.14235594e+00 3.14207798e+00\n",
      " 3.14180092e+00 3.14152476e+00 3.14124950e+00 3.14097514e+00\n",
      " 3.14070167e+00 3.14042909e+00 3.14015739e+00 3.13988658e+00]\n"
     ]
    }
   ],
   "source": [
    "print(cost)"
   ]
  },
  {
   "cell_type": "code",
   "execution_count": 20,
   "metadata": {},
   "outputs": [
    {
     "name": "stdout",
     "output_type": "stream",
     "text": [
      "computeCost(x, y, theta) =  3.1398865791097923\n"
     ]
    }
   ],
   "source": [
    "print('computeCost(x, y, theta) = ' , computeCost(x, y, theta_values))"
   ]
  },
  {
   "cell_type": "code",
   "execution_count": 21,
   "metadata": {},
   "outputs": [
    {
     "data": {
      "text/plain": [
       "Text(0.5, 1.0, 'Error vs. Training Epoch')"
      ]
     },
     "execution_count": 21,
     "metadata": {},
     "output_type": "execute_result"
    },
    {
     "data": {
      "image/png": "[encoded data removed]",
      "text/plain": [
       "<Figure size 360x360 with 1 Axes>"
      ]
     },
     "metadata": {
      "needs_background": "light"
     },
     "output_type": "display_data"
    }
   ],
   "source": [
    "fig, ax = plt.subplots(figsize=(5,5))\n",
    "ax.plot(np.arange(iters), cost, 'r')\n",
    "ax.set_xlabel('Iterations')\n",
    "ax.set_ylabel('Cost')\n",
    "ax.set_title('Error vs. Training Epoch')"
   ]
  },
  {
   "cell_type": "code",
   "execution_count": 24,
   "metadata": {},
   "outputs": [
    {
     "data": {
      "text/plain": [
       "Text(0.5, 1.0, 'Size vs. Price')"
      ]
     },
     "execution_count": 24,
     "metadata": {},
     "output_type": "execute_result"
    },
    {
     "data": {
      "image/png": "[encoded data removed]",
      "text/plain": [
       "<Figure size 360x360 with 1 Axes>"
      ]
     },
     "metadata": {
      "needs_background": "light"
     },
     "output_type": "display_data"
    }
   ],
   "source": [
    "x = np.linspace(data3.x1.min(), data3.x1.max(), 100)\n",
    "f = theta_values[0, 0] + (theta_values[0, 1] * x)\n",
    "fig, ax = plt.subplots(figsize=(5,5))\n",
    "ax.plot(x, f, 'r', label='Prediction')\n",
    "ax.scatter(data3.x1, data3.y, label='Training Data')\n",
    "ax.legend(loc=2)\n",
    "ax.set_xlabel('Size')\n",
    "ax.set_ylabel('Prices')\n",
    "ax.set_title('Size vs. Price')"
   ]
  },
  {
   "cell_type": "code",
   "execution_count": 28,
   "metadata": {},
   "outputs": [
    {
     "data": {
      "text/plain": [
       "Text(0.5, 1.0, 'Size vs. Price')"
      ]
     },
     "execution_count": 28,
     "metadata": {},
     "output_type": "execute_result"
    },
    {
     "data": {
      "image/png": "[encoded data removed]",
      "text/plain": [
       "<Figure size 360x360 with 1 Axes>"
      ]
     },
     "metadata": {
      "needs_background": "light"
     },
     "output_type": "display_data"
    }
   ],
   "source": [
    "x = np.linspace(data3.x2.min(), data3.x2.max(), 1000)\n",
    "f = theta_values[0, 0] + (theta_values[0, 1] * x)\n",
    "fig, ax = plt.subplots(figsize=(5,5))\n",
    "ax.plot(x, f, 'r', label='Prediction')\n",
    "ax.scatter(data3.x2, data3.y, label='Training Data')\n",
    "ax.legend(loc=2)\n",
    "ax.set_xlabel('Size')\n",
    "ax.set_ylabel('Prices')\n",
    "ax.set_title('Size vs. Price')"
   ]
  }
 ],
 "metadata": {
  "kernelspec": {
   "display_name": "Python 3 (ipykernel)",
   "language": "python",
   "name": "python3"
  },
  "language_info": {
   "codemirror_mode": {
    "name": "ipython",
    "version": 3
   },
   "file_extension": ".py",
   "mimetype": "text/x-python",
   "name": "python",
   "nbconvert_exporter": "python",
   "pygments_lexer": "ipython3",
   "version": "3.9.7"
  }
 },
 "nbformat": 4,
 "nbformat_minor": 4
}
